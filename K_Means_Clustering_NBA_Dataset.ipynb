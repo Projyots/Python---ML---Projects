{
  "nbformat": 4,
  "nbformat_minor": 0,
  "metadata": {
    "colab": {
      "name": "K_Means Clustering NBA_Dataset.ipynb",
      "provenance": [],
      "collapsed_sections": []
    },
    "kernelspec": {
      "name": "python3",
      "display_name": "Python 3"
    },
    "accelerator": "GPU"
  },
  "cells": [
    {
      "cell_type": "code",
      "metadata": {
        "id": "cbZGqchzmK_w",
        "colab_type": "code",
        "colab": {}
      },
      "source": [
        "# NBA players 2013-2014\n",
        "# K-Means CLustering"
      ],
      "execution_count": 0,
      "outputs": []
    },
    {
      "cell_type": "code",
      "metadata": {
        "id": "7lbuQ9Jtm4P2",
        "colab_type": "code",
        "colab": {}
      },
      "source": [
        "import pandas as pd\n",
        "import matplotlib.pyplot as plt\n",
        "import seaborn as sns\n"
      ],
      "execution_count": 0,
      "outputs": []
    },
    {
      "cell_type": "code",
      "metadata": {
        "id": "Bd34eY7TnKx7",
        "colab_type": "code",
        "colab": {
          "base_uri": "https://localhost:8080/",
          "height": 405
        },
        "outputId": "24a3fe18-af71-47ba-adb8-d5c96e374af8"
      },
      "source": [
        "#Load the data from colab\n",
        "from google.colab import files\n",
        "#uploaded = files.upload()\n",
        "nba = pd.read_csv(r'nba_2013.csv',encoding= 'unicode_escape')\n",
        "nba.head(7)"
      ],
      "execution_count": 10,
      "outputs": [
        {
          "output_type": "execute_result",
          "data": {
            "text/html": [
              "<div>\n",
              "<style scoped>\n",
              "    .dataframe tbody tr th:only-of-type {\n",
              "        vertical-align: middle;\n",
              "    }\n",
              "\n",
              "    .dataframe tbody tr th {\n",
              "        vertical-align: top;\n",
              "    }\n",
              "\n",
              "    .dataframe thead th {\n",
              "        text-align: right;\n",
              "    }\n",
              "</style>\n",
              "<table border=\"1\" class=\"dataframe\">\n",
              "  <thead>\n",
              "    <tr style=\"text-align: right;\">\n",
              "      <th></th>\n",
              "      <th>player</th>\n",
              "      <th>pos</th>\n",
              "      <th>age</th>\n",
              "      <th>bref_team_id</th>\n",
              "      <th>g</th>\n",
              "      <th>gs</th>\n",
              "      <th>mp</th>\n",
              "      <th>fg</th>\n",
              "      <th>fga</th>\n",
              "      <th>fg.</th>\n",
              "      <th>x3p</th>\n",
              "      <th>x3pa</th>\n",
              "      <th>x3p.</th>\n",
              "      <th>x2p</th>\n",
              "      <th>x2pa</th>\n",
              "      <th>x2p.</th>\n",
              "      <th>efg.</th>\n",
              "      <th>ft</th>\n",
              "      <th>fta</th>\n",
              "      <th>ft.</th>\n",
              "      <th>orb</th>\n",
              "      <th>drb</th>\n",
              "      <th>trb</th>\n",
              "      <th>ast</th>\n",
              "      <th>stl</th>\n",
              "      <th>blk</th>\n",
              "      <th>tov</th>\n",
              "      <th>pf</th>\n",
              "      <th>pts</th>\n",
              "      <th>season</th>\n",
              "      <th>season_end</th>\n",
              "    </tr>\n",
              "  </thead>\n",
              "  <tbody>\n",
              "    <tr>\n",
              "      <th>0</th>\n",
              "      <td>Quincy Acy</td>\n",
              "      <td>SF</td>\n",
              "      <td>23</td>\n",
              "      <td>TOT</td>\n",
              "      <td>63</td>\n",
              "      <td>0</td>\n",
              "      <td>847</td>\n",
              "      <td>66</td>\n",
              "      <td>141</td>\n",
              "      <td>0.468</td>\n",
              "      <td>4</td>\n",
              "      <td>15</td>\n",
              "      <td>0.266667</td>\n",
              "      <td>62</td>\n",
              "      <td>126</td>\n",
              "      <td>0.492063</td>\n",
              "      <td>0.482</td>\n",
              "      <td>35</td>\n",
              "      <td>53</td>\n",
              "      <td>0.660</td>\n",
              "      <td>72</td>\n",
              "      <td>144</td>\n",
              "      <td>216</td>\n",
              "      <td>28</td>\n",
              "      <td>23</td>\n",
              "      <td>26</td>\n",
              "      <td>30</td>\n",
              "      <td>122</td>\n",
              "      <td>171</td>\n",
              "      <td>2013-2014</td>\n",
              "      <td>2013</td>\n",
              "    </tr>\n",
              "    <tr>\n",
              "      <th>1</th>\n",
              "      <td>Steven Adams</td>\n",
              "      <td>C</td>\n",
              "      <td>20</td>\n",
              "      <td>OKC</td>\n",
              "      <td>81</td>\n",
              "      <td>20</td>\n",
              "      <td>1197</td>\n",
              "      <td>93</td>\n",
              "      <td>185</td>\n",
              "      <td>0.503</td>\n",
              "      <td>0</td>\n",
              "      <td>0</td>\n",
              "      <td>NaN</td>\n",
              "      <td>93</td>\n",
              "      <td>185</td>\n",
              "      <td>0.502703</td>\n",
              "      <td>0.503</td>\n",
              "      <td>79</td>\n",
              "      <td>136</td>\n",
              "      <td>0.581</td>\n",
              "      <td>142</td>\n",
              "      <td>190</td>\n",
              "      <td>332</td>\n",
              "      <td>43</td>\n",
              "      <td>40</td>\n",
              "      <td>57</td>\n",
              "      <td>71</td>\n",
              "      <td>203</td>\n",
              "      <td>265</td>\n",
              "      <td>2013-2014</td>\n",
              "      <td>2013</td>\n",
              "    </tr>\n",
              "    <tr>\n",
              "      <th>2</th>\n",
              "      <td>Jeff Adrien</td>\n",
              "      <td>PF</td>\n",
              "      <td>27</td>\n",
              "      <td>TOT</td>\n",
              "      <td>53</td>\n",
              "      <td>12</td>\n",
              "      <td>961</td>\n",
              "      <td>143</td>\n",
              "      <td>275</td>\n",
              "      <td>0.520</td>\n",
              "      <td>0</td>\n",
              "      <td>0</td>\n",
              "      <td>NaN</td>\n",
              "      <td>143</td>\n",
              "      <td>275</td>\n",
              "      <td>0.520000</td>\n",
              "      <td>0.520</td>\n",
              "      <td>76</td>\n",
              "      <td>119</td>\n",
              "      <td>0.639</td>\n",
              "      <td>102</td>\n",
              "      <td>204</td>\n",
              "      <td>306</td>\n",
              "      <td>38</td>\n",
              "      <td>24</td>\n",
              "      <td>36</td>\n",
              "      <td>39</td>\n",
              "      <td>108</td>\n",
              "      <td>362</td>\n",
              "      <td>2013-2014</td>\n",
              "      <td>2013</td>\n",
              "    </tr>\n",
              "    <tr>\n",
              "      <th>3</th>\n",
              "      <td>Arron Afflalo</td>\n",
              "      <td>SG</td>\n",
              "      <td>28</td>\n",
              "      <td>ORL</td>\n",
              "      <td>73</td>\n",
              "      <td>73</td>\n",
              "      <td>2552</td>\n",
              "      <td>464</td>\n",
              "      <td>1011</td>\n",
              "      <td>0.459</td>\n",
              "      <td>128</td>\n",
              "      <td>300</td>\n",
              "      <td>0.426667</td>\n",
              "      <td>336</td>\n",
              "      <td>711</td>\n",
              "      <td>0.472574</td>\n",
              "      <td>0.522</td>\n",
              "      <td>274</td>\n",
              "      <td>336</td>\n",
              "      <td>0.815</td>\n",
              "      <td>32</td>\n",
              "      <td>230</td>\n",
              "      <td>262</td>\n",
              "      <td>248</td>\n",
              "      <td>35</td>\n",
              "      <td>3</td>\n",
              "      <td>146</td>\n",
              "      <td>136</td>\n",
              "      <td>1330</td>\n",
              "      <td>2013-2014</td>\n",
              "      <td>2013</td>\n",
              "    </tr>\n",
              "    <tr>\n",
              "      <th>4</th>\n",
              "      <td>Alexis Ajinca</td>\n",
              "      <td>C</td>\n",
              "      <td>25</td>\n",
              "      <td>NOP</td>\n",
              "      <td>56</td>\n",
              "      <td>30</td>\n",
              "      <td>951</td>\n",
              "      <td>136</td>\n",
              "      <td>249</td>\n",
              "      <td>0.546</td>\n",
              "      <td>0</td>\n",
              "      <td>1</td>\n",
              "      <td>0.000000</td>\n",
              "      <td>136</td>\n",
              "      <td>248</td>\n",
              "      <td>0.548387</td>\n",
              "      <td>0.546</td>\n",
              "      <td>56</td>\n",
              "      <td>67</td>\n",
              "      <td>0.836</td>\n",
              "      <td>94</td>\n",
              "      <td>183</td>\n",
              "      <td>277</td>\n",
              "      <td>40</td>\n",
              "      <td>23</td>\n",
              "      <td>46</td>\n",
              "      <td>63</td>\n",
              "      <td>187</td>\n",
              "      <td>328</td>\n",
              "      <td>2013-2014</td>\n",
              "      <td>2013</td>\n",
              "    </tr>\n",
              "    <tr>\n",
              "      <th>5</th>\n",
              "      <td>Cole Aldrich</td>\n",
              "      <td>C</td>\n",
              "      <td>25</td>\n",
              "      <td>NYK</td>\n",
              "      <td>46</td>\n",
              "      <td>2</td>\n",
              "      <td>330</td>\n",
              "      <td>33</td>\n",
              "      <td>61</td>\n",
              "      <td>0.541</td>\n",
              "      <td>0</td>\n",
              "      <td>0</td>\n",
              "      <td>NaN</td>\n",
              "      <td>33</td>\n",
              "      <td>61</td>\n",
              "      <td>0.540984</td>\n",
              "      <td>0.541</td>\n",
              "      <td>26</td>\n",
              "      <td>30</td>\n",
              "      <td>0.867</td>\n",
              "      <td>37</td>\n",
              "      <td>92</td>\n",
              "      <td>129</td>\n",
              "      <td>14</td>\n",
              "      <td>8</td>\n",
              "      <td>30</td>\n",
              "      <td>18</td>\n",
              "      <td>40</td>\n",
              "      <td>92</td>\n",
              "      <td>2013-2014</td>\n",
              "      <td>2013</td>\n",
              "    </tr>\n",
              "    <tr>\n",
              "      <th>6</th>\n",
              "      <td>LaMarcus Aldridge</td>\n",
              "      <td>PF</td>\n",
              "      <td>28</td>\n",
              "      <td>POR</td>\n",
              "      <td>69</td>\n",
              "      <td>69</td>\n",
              "      <td>2498</td>\n",
              "      <td>652</td>\n",
              "      <td>1423</td>\n",
              "      <td>0.458</td>\n",
              "      <td>3</td>\n",
              "      <td>15</td>\n",
              "      <td>0.200000</td>\n",
              "      <td>649</td>\n",
              "      <td>1408</td>\n",
              "      <td>0.460938</td>\n",
              "      <td>0.459</td>\n",
              "      <td>296</td>\n",
              "      <td>360</td>\n",
              "      <td>0.822</td>\n",
              "      <td>166</td>\n",
              "      <td>599</td>\n",
              "      <td>765</td>\n",
              "      <td>178</td>\n",
              "      <td>63</td>\n",
              "      <td>68</td>\n",
              "      <td>123</td>\n",
              "      <td>147</td>\n",
              "      <td>1603</td>\n",
              "      <td>2013-2014</td>\n",
              "      <td>2013</td>\n",
              "    </tr>\n",
              "  </tbody>\n",
              "</table>\n",
              "</div>"
            ],
            "text/plain": [
              "              player pos  age bref_team_id  ...   pf   pts     season  season_end\n",
              "0         Quincy Acy  SF   23          TOT  ...  122   171  2013-2014        2013\n",
              "1       Steven Adams   C   20          OKC  ...  203   265  2013-2014        2013\n",
              "2        Jeff Adrien  PF   27          TOT  ...  108   362  2013-2014        2013\n",
              "3      Arron Afflalo  SG   28          ORL  ...  136  1330  2013-2014        2013\n",
              "4      Alexis Ajinca   C   25          NOP  ...  187   328  2013-2014        2013\n",
              "5       Cole Aldrich   C   25          NYK  ...   40    92  2013-2014        2013\n",
              "6  LaMarcus Aldridge  PF   28          POR  ...  147  1603  2013-2014        2013\n",
              "\n",
              "[7 rows x 31 columns]"
            ]
          },
          "metadata": {
            "tags": []
          },
          "execution_count": 10
        }
      ]
    },
    {
      "cell_type": "code",
      "metadata": {
        "id": "XMhRS-hJnrc9",
        "colab_type": "code",
        "colab": {
          "base_uri": "https://localhost:8080/",
          "height": 34
        },
        "outputId": "325b65f1-c45e-4fa6-9404-920d108cba23"
      },
      "source": [
        "nba.shape"
      ],
      "execution_count": 11,
      "outputs": [
        {
          "output_type": "execute_result",
          "data": {
            "text/plain": [
              "(481, 31)"
            ]
          },
          "metadata": {
            "tags": []
          },
          "execution_count": 11
        }
      ]
    },
    {
      "cell_type": "code",
      "metadata": {
        "id": "sXPYWAapoOZ3",
        "colab_type": "code",
        "colab": {
          "base_uri": "https://localhost:8080/",
          "height": 493
        },
        "outputId": "85240da9-29f0-481a-b144-2d614df24c7c"
      },
      "source": [
        "nba.mean()"
      ],
      "execution_count": 12,
      "outputs": [
        {
          "output_type": "execute_result",
          "data": {
            "text/plain": [
              "age             26.509356\n",
              "g               53.253638\n",
              "gs              25.571726\n",
              "mp            1237.386694\n",
              "fg             192.881497\n",
              "fga            424.463617\n",
              "fg.              0.436436\n",
              "x3p             39.613306\n",
              "x3pa           110.130977\n",
              "x3p.             0.285111\n",
              "x2p            153.268191\n",
              "x2pa           314.332640\n",
              "x2p.             0.466947\n",
              "efg.             0.480752\n",
              "ft              91.205821\n",
              "fta            120.642412\n",
              "ft.              0.722419\n",
              "orb             55.810811\n",
              "drb            162.817048\n",
              "trb            218.627859\n",
              "ast            112.536383\n",
              "stl             39.280665\n",
              "blk             24.103950\n",
              "tov             71.862786\n",
              "pf             105.869023\n",
              "pts            516.582121\n",
              "season_end    2013.000000\n",
              "dtype: float64"
            ]
          },
          "metadata": {
            "tags": []
          },
          "execution_count": 12
        }
      ]
    },
    {
      "cell_type": "code",
      "metadata": {
        "id": "loxgZ77lovQD",
        "colab_type": "code",
        "colab": {
          "base_uri": "https://localhost:8080/",
          "height": 34
        },
        "outputId": "511d95b7-6275-4a22-9f1f-c98095d7ca8a"
      },
      "source": [
        "#Get the mean/average of specific columns\n",
        "\n",
        "nba.loc[:,'fg'].mean()"
      ],
      "execution_count": 14,
      "outputs": [
        {
          "output_type": "execute_result",
          "data": {
            "text/plain": [
              "192.88149688149687"
            ]
          },
          "metadata": {
            "tags": []
          },
          "execution_count": 14
        }
      ]
    },
    {
      "cell_type": "code",
      "metadata": {
        "id": "dXvE1a1pp2jL",
        "colab_type": "code",
        "colab": {
          "base_uri": "https://localhost:8080/",
          "height": 584
        },
        "outputId": "f506f90e-c104-4c5a-f9aa-6bfd048fd98a"
      },
      "source": [
        "#Make a pairwise scatter plot\n",
        "corr_col = ['ast','fg','trb']\n",
        "sns.pairplot(nba[corr_col])"
      ],
      "execution_count": 19,
      "outputs": [
        {
          "output_type": "execute_result",
          "data": {
            "text/plain": [
              "<seaborn.axisgrid.PairGrid at 0x7fc71f88e6a0>"
            ]
          },
          "metadata": {
            "tags": []
          },
          "execution_count": 19
        },
        {
          "output_type": "display_data",
          "data": {
            "image/png": "[encoded data removed]",
            "text/plain": [
              "<Figure size 540x540 with 12 Axes>"
            ]
          },
          "metadata": {
            "tags": []
          }
        }
      ]
    },
    {
      "cell_type": "code",
      "metadata": {
        "id": "lsT78jqCqL-s",
        "colab_type": "code",
        "colab": {
          "base_uri": "https://localhost:8080/",
          "height": 286
        },
        "outputId": "51ef16b1-090f-42ea-cdae-0a0e56269b9e"
      },
      "source": [
        "# HeatMap for correlations\n",
        "\n",
        "correlation = nba[corr_col].corr()\n",
        "sns.heatmap(correlation, annot=True)"
      ],
      "execution_count": 21,
      "outputs": [
        {
          "output_type": "execute_result",
          "data": {
            "text/plain": [
              "<matplotlib.axes._subplots.AxesSubplot at 0x7fc71e181cf8>"
            ]
          },
          "metadata": {
            "tags": []
          },
          "execution_count": 21
        },
        {
          "output_type": "display_data",
          "data": {
            "image/png": "[encoded data removed]",
            "text/plain": [
              "<Figure size 432x288 with 2 Axes>"
            ]
          },
          "metadata": {
            "tags": []
          }
        }
      ]
    },
    {
      "cell_type": "code",
      "metadata": {
        "id": "x1E9-G-nqMJJ",
        "colab_type": "code",
        "colab": {
          "base_uri": "https://localhost:8080/",
          "height": 238
        },
        "outputId": "1c19c225-754a-4164-f718-a8d8f28785dc"
      },
      "source": [
        "# Creating CLusters of Players \n",
        "\n",
        "from sklearn.cluster import KMeans\n",
        "\n",
        "kmeans_model = KMeans(n_clusters = 5,random_state=1)\n",
        "good_columns = nba._get_numeric_data().dropna(axis=1)\n",
        "kmeans_model.fit(good_columns)\n",
        "labels = kmeans_model.labels_\n",
        "print(labels)"
      ],
      "execution_count": 23,
      "outputs": [
        {
          "output_type": "stream",
          "text": [
            "[0 0 0 1 0 3 1 0 2 2 4 3 2 2 4 0 2 1 3 0 4 3 0 0 4 3 0 3 3 3 2 2 4 2 3 4 2\n",
            " 1 2 3 0 1 0 4 0 2 3 3 0 2 2 2 2 3 3 2 0 2 4 1 4 2 4 3 2 3 3 3 3 0 3 4 4 2\n",
            " 4 3 3 0 0 0 4 2 3 4 4 1 2 4 2 4 3 3 0 3 3 2 3 4 2 1 3 1 3 3 4 4 0 2 3 3 1\n",
            " 2 3 3 3 1 0 2 3 3 3 0 4 1 4 0 0 0 1 1 2 4 4 1 3 3 1 3 0 0 4 4 0 3 4 3 4 3\n",
            " 2 2 4 3 3 0 4 0 0 0 4 4 1 0 1 4 2 3 3 3 3 3 4 1 0 3 2 2 4 1 0 1 3 0 3 0 2\n",
            " 1 2 3 3 0 3 3 3 4 0 4 0 1 4 0 4 4 4 2 4 2 3 4 0 3 3 0 1 0 2 1 2 2 1 3 4 4\n",
            " 3 3 3 1 3 3 3 1 4 3 1 0 4 0 0 1 3 4 3 3 0 3 4 4 0 0 4 3 2 2 0 1 4 2 3 3 0\n",
            " 2 3 3 4 3 4 1 3 4 3 0 0 3 1 4 2 0 4 1 1 3 2 0 4 2 0 0 4 3 1 3 3 2 0 0 3 3\n",
            " 4 4 4 3 4 0 0 0 2 0 2 1 3 3 1 2 3 2 4 2 0 3 2 3 3 3 3 3 3 3 0 3 4 0 1 3 1\n",
            " 3 0 0 3 4 2 3 3 0 2 3 4 1 2 4 4 0 4 3 2 4 3 3 3 0 3 3 0 2 3 3 3 1 0 3 0 2\n",
            " 3 2 0 0 0 3 4 4 3 0 2 0 0 2 2 2 0 4 3 3 2 0 0 4 3 3 3 3 3 0 4 0 1 0 3 0 2\n",
            " 3 1 0 3 2 4 4 0 3 1 3 2 0 3 3 3 1 3 3 2 4 1 4 2 3 0 4 0 3 1 3 0 0 4 2 3 2\n",
            " 0 3 4 3 4 4 1 1 2 3 0 3 3 4 1 2 3 3 4 2 0 2 2 2 3 0 0 2 3 0 3 0 4 4 1 2 0]\n"
          ],
          "name": "stdout"
        }
      ]
    },
    {
      "cell_type": "code",
      "metadata": {
        "id": "jw1urlBpqMMp",
        "colab_type": "code",
        "colab": {
          "base_uri": "https://localhost:8080/",
          "height": 265
        },
        "outputId": "f9875227-b925-439b-99a3-8f8b5d0c678a"
      },
      "source": [
        "# Principal component Analysis\n",
        "\n",
        "from sklearn.decomposition import PCA\n",
        "pca_2 = PCA(2)\n",
        "plot_columns = pca_2.fit_transform(good_columns)\n",
        "plt.scatter(x = plot_columns[:,0],y = plot_columns[:,1],c=labels)\n",
        "plt.show()"
      ],
      "execution_count": 26,
      "outputs": [
        {
          "output_type": "display_data",
          "data": {
            "image/png": "[encoded data removed]",
            "text/plain": [
              "<Figure size 432x288 with 1 Axes>"
            ]
          },
          "metadata": {
            "tags": []
          }
        }
      ]
    },
    {
      "cell_type": "code",
      "metadata": {
        "id": "Nn7797JpqMP0",
        "colab_type": "code",
        "colab": {}
      },
      "source": [
        "#Split the data into 80% training and 20% testing\n",
        "from sklearn.model_selection import train_test_split\n",
        "x_train, x_test, y_train, y_test = train_test_split(nba[['fg']], nba[['ast']], test_size=0.2, random_state=42)"
      ],
      "execution_count": 0,
      "outputs": []
    },
    {
      "cell_type": "code",
      "metadata": {
        "id": "hPq7ogAfqMSs",
        "colab_type": "code",
        "colab": {
          "base_uri": "https://localhost:8080/",
          "height": 714
        },
        "outputId": "e2cc970d-aaef-408b-d960-98a6a75f8a6f"
      },
      "source": [
        "#Create the Linear Regression Model\n",
        "from sklearn.linear_model import LinearRegression\n",
        "lr = LinearRegression() # Create the model\n",
        "lr.fit(x_train, y_train) #Train the model\n",
        "predictions = lr.predict(x_test) #Make predictions on the test data\n",
        "\n",
        "print(predictions[:20])\n",
        "print(y_test[:20])\n",
        "\n"
      ],
      "execution_count": 30,
      "outputs": [
        {
          "output_type": "stream",
          "text": [
            "[[121.94310565]\n",
            " [ 24.72153471]\n",
            " [ 77.60579583]\n",
            " [252.28411286]\n",
            " [219.69886106]\n",
            " [ 70.12721345]\n",
            " [ 17.77713678]\n",
            " [178.03247351]\n",
            " [ 58.37515542]\n",
            " [ 70.12721345]\n",
            " [117.13544555]\n",
            " [ 30.06337926]\n",
            " [214.3570165 ]\n",
            " [ 24.18735025]\n",
            " [143.84466834]\n",
            " [ 22.05061243]\n",
            " [133.69516368]\n",
            " [  9.23018549]\n",
            " [131.55842586]\n",
            " [167.88296885]]\n",
            "     ast\n",
            "73    82\n",
            "415   36\n",
            "392   52\n",
            "278  586\n",
            "400  219\n",
            "172   41\n",
            "395   34\n",
            "376   79\n",
            "77    29\n",
            "452  143\n",
            "9     94\n",
            "268   18\n",
            "244   87\n",
            "299   63\n",
            "30   303\n",
            "93    15\n",
            "55   112\n",
            "424    3\n",
            "33   125\n",
            "203  153\n"
          ],
          "name": "stdout"
        }
      ]
    },
    {
      "cell_type": "code",
      "metadata": {
        "id": "FZ3qxpzFqMVj",
        "colab_type": "code",
        "colab": {
          "base_uri": "https://localhost:8080/",
          "height": 51
        },
        "outputId": "3f2486d2-f59d-47a1-8407-2d6caabfe869"
      },
      "source": [
        "# Testing Model:\n",
        "# Score = coefficient of determination R^2 of the prediction. \n",
        "#   best score is 1.0 \n",
        "lr_confidence = lr.score(x_test, y_test)\n",
        "print(\"lr confidence (R^2): \", lr_confidence)\n",
        "\n",
        "# mean squared error = how close a regression line is to a set of points.\n",
        "from sklearn.metrics import mean_squared_error\n",
        "print(\"Mean Squared Error (MSE): \",mean_squared_error(y_test, predictions))"
      ],
      "execution_count": 31,
      "outputs": [
        {
          "output_type": "stream",
          "text": [
            "lr confidence (R^2):  0.5877700445514937\n",
            "Mean Squared Error (MSE):  5257.168578022499\n"
          ],
          "name": "stdout"
        }
      ]
    },
    {
      "cell_type": "code",
      "metadata": {
        "id": "lUsEsHzwqMYe",
        "colab_type": "code",
        "colab": {}
      },
      "source": [
        ""
      ],
      "execution_count": 0,
      "outputs": []
    },
    {
      "cell_type": "code",
      "metadata": {
        "id": "9K2HItyKqMbV",
        "colab_type": "code",
        "colab": {}
      },
      "source": [
        ""
      ],
      "execution_count": 0,
      "outputs": []
    },
    {
      "cell_type": "code",
      "metadata": {
        "id": "Ozg5Qe5pqMeu",
        "colab_type": "code",
        "colab": {}
      },
      "source": [
        ""
      ],
      "execution_count": 0,
      "outputs": []
    },
    {
      "cell_type": "code",
      "metadata": {
        "id": "lgh6GVjYqMhg",
        "colab_type": "code",
        "colab": {}
      },
      "source": [
        ""
      ],
      "execution_count": 0,
      "outputs": []
    },
    {
      "cell_type": "code",
      "metadata": {
        "id": "fAy100mEqMkh",
        "colab_type": "code",
        "colab": {}
      },
      "source": [
        ""
      ],
      "execution_count": 0,
      "outputs": []
    },
    {
      "cell_type": "code",
      "metadata": {
        "id": "EXZh9xKLqMnb",
        "colab_type": "code",
        "colab": {}
      },
      "source": [
        ""
      ],
      "execution_count": 0,
      "outputs": []
    },
    {
      "cell_type": "code",
      "metadata": {
        "id": "gxQK2vhAqMqR",
        "colab_type": "code",
        "colab": {}
      },
      "source": [
        ""
      ],
      "execution_count": 0,
      "outputs": []
    },
    {
      "cell_type": "code",
      "metadata": {
        "id": "272MZKtGqMtS",
        "colab_type": "code",
        "colab": {}
      },
      "source": [
        ""
      ],
      "execution_count": 0,
      "outputs": []
    },
    {
      "cell_type": "code",
      "metadata": {
        "id": "-DkX3Y3zqMwe",
        "colab_type": "code",
        "colab": {}
      },
      "source": [
        ""
      ],
      "execution_count": 0,
      "outputs": []
    },
    {
      "cell_type": "code",
      "metadata": {
        "id": "O6xegfeJqMzk",
        "colab_type": "code",
        "colab": {}
      },
      "source": [
        ""
      ],
      "execution_count": 0,
      "outputs": []
    }
  ]
}